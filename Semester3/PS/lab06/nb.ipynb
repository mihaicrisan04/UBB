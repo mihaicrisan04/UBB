{
 "cells": [
  {
   "cell_type": "markdown",
   "metadata": {},
   "source": [
    "1. In a study of the efficiency of various large computer storage systems, the random\n",
    "variable X, the number of (medium-sized) files (in millions) that can be stored is\n",
    "considered. If the storage system cannot store at least 8.5 millions (medium-sized)\n",
    "files, on average, it does not meet the efficiency standard and has to be improved.\n",
    "These data are obtained:\n",
    "7 7 4 5 9 9 4 12 8 1 8 7 3 13 2 1 17 7 12 5 6 2 1 13 14 10 2 4 9 11 3 5 12 6 10 7\n",
    "(the data from Problem B.1., Lab nr. 5).\n",
    "a. Assuming that past experience indicates that σ = 5, at the 5% significance level,\n",
    "does the data suggest that the standard is met? What about at 1%?\n",
    "b. Without the assumption on σ, does the data suggest that, on average, the number\n",
    "of files stored exceeds 5.5? (same significance level)"
   ]
  }
 ],
 "metadata": {
  "language_info": {
   "name": "python"
  }
 },
 "nbformat": 4,
 "nbformat_minor": 2
}
