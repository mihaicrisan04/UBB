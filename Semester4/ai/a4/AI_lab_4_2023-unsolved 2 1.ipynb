{
  "cells": [
    {
      "cell_type": "markdown",
      "source": [
        "## A.I. Assignment 4\n",
        "\n",
        "## Learning Goals\n",
        "\n",
        "By the end of this lab, you should be able to:\n",
        "* Get familiar with tensors in pytorch\n",
        "* Get familiar with the activation functions for ANN \n",
        "* Create a simple perceptron model with pytorch\n",
        "\n"
      ],
      "metadata": {},
      "id": "b246b6ac"
    },
    {
      "cell_type": "markdown",
      "source": [
        "## Common activation functions for ANN:\n",
        "\n",
        "##### Sigmoid:\n",
        "\n",
        "The sigmoid function is a popular choice for activation functions in neural networks. It has an $S-shaped$ curve:\n",
        "$$f(x) = \\frac{1}{1+e^{-x}}.$$\n",
        "\n",
        "It has a number of appealing qualities:\n",
        "\n",
        "1. *Nonlinearity*: Because the sigmoid function is nonlinear, it enables the neural network to simulate nonlinear interactions between inputs and outputs. A neural network would simply be a linear model without a nonlinear activation function like sigmoid, which would significantly restrict its capacity to describe complex relationships.\n",
        "\n",
        "1. *Smoothness*: As the sigmoid function is differentiable and smooth, its derivative exist at every point. This is significant because it makes it possible for neural network training techniques based on gradients (such as backpropagation) to perform well.\n",
        "\n",
        "1. *Boundedness*: The sigmoid function is bounded between 0 and 1, it means  its outputs can be interpreted as probabilities.  It is most useful in applications like binary classification, where the goal is to predict whether an input belongs to one of two classes.\n",
        "\n",
        "1. *Monotonicity*: The sigmoid function is monotonic, which means that its outputs are always increasing or always decreasing with respect to its inputs. This makes it easy to interpret the effect of changes in input variables on the output of the network.\n",
        "\n",
        "##### ReLU (Rectified Linear Unit):\n",
        "\n",
        "The ReLU function is defined as $$f(x) = max(0, x).$$\n",
        "\n",
        "It is a widely used activation function in deep learning due to its simplicity and effectiveness.\n",
        "\n",
        "##### Tanh (Hyperbolic Tangent):\n",
        "\n",
        "The $\\tanh$ function is similar to the sigmoid function but produces outputs in the interval $[-1, 1]$:  \n",
        "$$f(x) = \\frac{e^{x}-e^{-x}}{e^{x}+e^{-x}}.$$\n",
        "\n",
        "##### Softmax:\n",
        "\n",
        "The softmax function is commonly used in the output layer of a neural network for multi-class classification problems. It normalizes the output into a probability distribution over the classes.\n",
        "\n",
        "Given a vector $\\vec{z}$ of $n$ real numbers, the softmax function calculates a vector $\\vec{s}$ of $n$ real numbers with the components:\n",
        "$$s_j = \\frac{e^{z_j}}{\\sum_{k=1}^{n} {e^{z_k}}}.$$\n",
        "\n",
        "\n",
        "##### Leaky ReLU:\n",
        "\n",
        "The Leaky ReLU is a variation of the ReLU function that introduces a small non-zero gradient for negative inputs. It is defined as \n",
        "$$f(x) = max(0.01 \\cdot x, x).$$\n",
        "\n",
        "##### ELU (Exponential Linear Unit):\n",
        "\n",
        "The ELU function is another variation of the ReLU function that introduces a small negative saturation value for negative inputs. It is defined as \n",
        "\n",
        "$$ f(x) = \\biggl\\{ \\begin{matrix} x, & for & x > 0 \\\\\n",
        "                      \\alpha \\cdot (e^{x} - 1), & for & x \\leq 0 \\end{matrix}$$\n",
        "where $\\alpha$ is a hyperparameter.\n",
        "\n",
        "##### Swish:\n",
        "\n",
        "The Swish function is a recent activation function that is a smooth approximation of the ReLU function. It is defined as f(x) = x * sigmoid(x).\n"
      ],
      "metadata": {},
      "id": "8247d8bb"
    },
    {
      "cell_type": "code",
      "source": [
        "import torch\n",
        "torch.cuda.is_available()"
      ],
      "outputs": [],
      "execution_count": null,
      "metadata": {},
      "id": "68931328"
    },
    {
      "cell_type": "markdown",
      "source": [
        "create a tensor with requires_grad=True to tell PyTorch to track gradients for this tensor:"
      ],
      "metadata": {},
      "id": "93017ce5"
    },
    {
      "cell_type": "code",
      "source": [
        "x = torch.tensor([2.0], requires_grad=True)\n",
        "print(x)"
      ],
      "outputs": [],
      "execution_count": null,
      "metadata": {},
      "id": "a14b6a39"
    },
    {
      "cell_type": "markdown",
      "source": [
        "You can perform any operations on this tensor as usual:"
      ],
      "metadata": {},
      "id": "56340210"
    },
    {
      "cell_type": "code",
      "source": [
        "y = x ** 2 + 2 * x + 1\n",
        "print(y)"
      ],
      "outputs": [],
      "execution_count": null,
      "metadata": {},
      "id": "99cb5a71"
    },
    {
      "cell_type": "markdown",
      "source": [
        "To compute the gradients of y with respect to x, you need to call backward() on y:"
      ],
      "metadata": {},
      "id": "af8a18dc"
    },
    {
      "cell_type": "code",
      "source": [
        "y.backward()"
      ],
      "outputs": [],
      "execution_count": null,
      "metadata": {},
      "id": "8c244acf"
    },
    {
      "cell_type": "code",
      "source": [
        "x.grad"
      ],
      "outputs": [],
      "execution_count": null,
      "metadata": {},
      "id": "0e9b7e33"
    },
    {
      "cell_type": "code",
      "source": [
        "import torch\n",
        "\n",
        "# Create a tensor with requires_grad=True\n",
        "x = torch.tensor([1., 2., 3.], requires_grad=True)\n",
        "\n",
        "# Compute a function of x\n",
        "y = x.sum()\n",
        "\n",
        "# Compute gradients of y with respect to x\n",
        "y.backward()\n",
        "\n",
        "# Print gradients of x\n",
        "print(x.grad)\n"
      ],
      "outputs": [],
      "execution_count": null,
      "metadata": {},
      "id": "87ce525b"
    },
    {
      "cell_type": "markdown",
      "source": [
        "Exercise 1.\n",
        "\n",
        "Compute the gradient for the sigmoid activation function in 2 points using pytorch and check it with the known explicit formula "
      ],
      "metadata": {},
      "id": "30804b8c"
    },
    {
      "cell_type": "code",
      "source": [
        "# your code here"
      ],
      "outputs": [],
      "execution_count": null,
      "metadata": {},
      "id": "2dc94902"
    },
    {
      "cell_type": "markdown",
      "source": [
        "Exercise 2.\n",
        "\n",
        "Compute the gradient for the linear activation function in 2 points using pytorch and check it with the known explicit formula"
      ],
      "metadata": {},
      "id": "7e77a45c"
    },
    {
      "cell_type": "code",
      "source": [
        "# your code here"
      ],
      "outputs": [],
      "execution_count": null,
      "metadata": {},
      "id": "7054039e"
    },
    {
      "cell_type": "markdown",
      "source": [
        "Execise 3.\n",
        "\n",
        "Compute the gradient for the relu activation function in 2 points using pytorch and check it with the known explicit formula."
      ],
      "metadata": {},
      "id": "dab117e3"
    },
    {
      "cell_type": "code",
      "source": [
        "# your code here"
      ],
      "outputs": [],
      "execution_count": null,
      "metadata": {},
      "id": "1f69f4c5"
    },
    {
      "cell_type": "markdown",
      "source": [
        "Exercise 4. \n",
        "\n",
        "Write in python a function to plot the sigmoid activation function and its gradient using matplotlib"
      ],
      "metadata": {},
      "id": "ef985f68"
    },
    {
      "cell_type": "code",
      "source": [
        "# your code here"
      ],
      "outputs": [],
      "execution_count": null,
      "metadata": {},
      "id": "6c645aaf"
    },
    {
      "cell_type": "markdown",
      "source": [
        "Exercise 5. \n",
        "\n",
        "Write in python a function to plot the ReLU activation function and its gradient using matplotlib."
      ],
      "metadata": {},
      "id": "51202a51"
    },
    {
      "cell_type": "code",
      "source": [
        "# your code here"
      ],
      "outputs": [],
      "execution_count": null,
      "metadata": {},
      "id": "99e49c47"
    },
    {
      "cell_type": "markdown",
      "source": [
        "Exercise 6. \n",
        "\n",
        "Write in python a function to plot the tanh activation function and its gradient using matplotlib."
      ],
      "metadata": {},
      "id": "c81684ff"
    },
    {
      "cell_type": "code",
      "source": [
        "# your code here"
      ],
      "outputs": [],
      "execution_count": null,
      "metadata": {},
      "id": "559d421d"
    },
    {
      "cell_type": "markdown",
      "source": [
        "Exercise 7. \n",
        "\n",
        "Write in python a function to plot the leaky ReLU activation function and its gradient using matplotlib."
      ],
      "metadata": {},
      "id": "8740a0a8"
    },
    {
      "cell_type": "code",
      "source": [
        "# your code here"
      ],
      "outputs": [],
      "execution_count": null,
      "metadata": {},
      "id": "7b455646"
    },
    {
      "cell_type": "markdown",
      "source": [
        "## Perceptron\n",
        "\n",
        "We define a class called *Perceptron* that inherits from *torch.nn.Module*. \n",
        "\n",
        "In the constructor, we define a single fully-connected linear layer with $input_dim$ inputs and $output_dim$ outputs, and a $sigmoid$ activation function. In the forward method, we apply the linear transformation to the input $x$, and then apply the sigmoid activation function to the output.\n",
        "\n"
      ],
      "metadata": {},
      "id": "4e33119c"
    },
    {
      "cell_type": "code",
      "source": [
        "import torch\n",
        "import torch.nn as nn\n",
        "\n",
        "input_size = 2\n",
        "output_size = 1\n",
        "\n",
        "class Perceptron(torch.nn.Module):\n",
        "    def __init__(self, input_dim, output_dim):\n",
        "        super(Perceptron, self).__init__()\n",
        "        self.linear = torch.nn.Linear(input_dim, output_dim)\n",
        "        self.activation = torch.nn.Sigmoid()\n",
        "        \n",
        "    def forward(self, x):\n",
        "        x = self.linear(x)\n",
        "        x = self.activation(x)\n",
        "        return x\n"
      ],
      "outputs": [],
      "execution_count": null,
      "metadata": {},
      "id": "aa86d7c0"
    },
    {
      "cell_type": "markdown",
      "source": [
        " We create an instance of this model and use it to make predictions like this:"
      ],
      "metadata": {},
      "id": "a178820e"
    },
    {
      "cell_type": "code",
      "source": [
        "perceptron = Perceptron(input_size, output_size)\n",
        "x = torch.tensor([0.5, 0.2])\n",
        "y = perceptron(x)\n",
        "print(y)\n"
      ],
      "outputs": [],
      "execution_count": null,
      "metadata": {},
      "id": "78513e21"
    },
    {
      "cell_type": "code",
      "source": [
        "\n",
        "# Define the loss function and optimizer\n",
        "criterion = nn.BCELoss()  # Binary cross-entropy loss\n",
        "optimizer = torch.optim.SGD(perceptron.parameters(), lr=0.1)  # Stochastic gradient descent optimizer\n",
        "\n",
        "# Generate some random input data and labels\n",
        "input_data = torch.randn((10, input_size))\n",
        "labels = torch.randint(0, 2, (10, output_size)).float()\n",
        "\n",
        "# Train the model\n",
        "num_epochs = 1000\n",
        "for epoch in range(num_epochs):\n",
        "    # Forward pass\n",
        "    outputs = perceptron(input_data)\n",
        "    loss = criterion(outputs, labels)\n",
        "\n",
        "    # Backward pass and optimization\n",
        "    optimizer.zero_grad()\n",
        "    loss.backward()\n",
        "    optimizer.step()\n",
        "\n",
        "    # Print the loss every 100 epochs\n",
        "    if (epoch + 1) % 100 == 0:\n",
        "        print(f'Epoch [{epoch+1}/{num_epochs}], Loss: {loss.item():.4f}')"
      ],
      "outputs": [],
      "execution_count": null,
      "metadata": {},
      "id": "54070b51"
    },
    {
      "cell_type": "markdown",
      "source": [
        "Exercise 8: \n",
        "\n",
        "Implement a binary classification model using the Perceptron class in PyTorch for the logic OR. \n",
        "\n",
        "Your task is to create a Perceptron instance and train it using a proper  dataset and the binary cross-entropy loss with stochastic gradient descent optimizer. \n",
        "\n",
        "Here are the steps you can follow:\n",
        "\n",
        "Define a Perceptron class that inherits from torch.nn.Module and implements a binary classification model.\n",
        "\n",
        "Define a binary cross-entropy loss function using the torch.nn.BCEWithLogitsLoss module.\n",
        "\n",
        "Define a stochastic gradient descent optimizer using the torch.optim.SGD module.\n",
        "\n",
        "Train the Perceptron model on the training set using the binary cross-entropy loss and stochastic gradient descent optimizer.\n",
        "\n",
        "Evaluate the trained model compute the accuracy.\n"
      ],
      "metadata": {},
      "id": "75b840f4"
    },
    {
      "cell_type": "code",
      "source": [],
      "outputs": [],
      "execution_count": null,
      "metadata": {},
      "id": "dc3c5d3e"
    }
  ],
  "metadata": {
    "kernelspec": {
      "name": "python",
      "language": "python",
      "display_name": "Pyolite (preview)"
    },
    "language_info": {
      "codemirror_mode": {
        "name": "python",
        "version": 3
      },
      "file_extension": ".py",
      "mimetype": "text/x-python",
      "name": "python",
      "nbconvert_exporter": "python",
      "pygments_lexer": "ipython3",
      "version": "3.8"
    },
    "kernel_info": {
      "name": "python"
    },
    "nteract": {
      "version": "nteract-front-end@1.0.0"
    }
  },
  "nbformat": 4,
  "nbformat_minor": 5
}