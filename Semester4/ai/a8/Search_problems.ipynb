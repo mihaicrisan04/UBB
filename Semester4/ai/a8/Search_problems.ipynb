{
 "cells": [
  {
   "cell_type": "markdown",
   "id": "3859ebd6",
   "metadata": {},
   "source": [
    "# Modeling and solving search problems\n",
    "\n",
    "Consider the following river crossing puzzle:\n",
    "\n",
    "## Jealous Husbands Problem with an Island\n",
    "\n",
    "There are n couples: $(𝐻_1,𝑊_1)$, $(𝐻_2,𝑊_2)$, …, $(𝐻_𝑛,𝑊_𝑛)$  where $𝐻_𝑖$ is husband $𝑖$ and $𝑊_𝑖$ is wife $𝑖$.\n",
    "\n",
    "They need to cross from the left bank of a river to the right bank.\n",
    "\n",
    "There is a boat that can carry at most two people at a time.\n",
    "\n",
    "Important: There is an island midway between the left and right banks. The boat can stop at the island.\n",
    "\n",
    "Rules:\n",
    "\n",
    "1. Jealousy constraint: No wife may ever be in the presence of another husband (on any shore or the island or in the boat) unless her own husband is also present. Otherwise, fights (and failures) occur.\n",
    "\n",
    "2. The boat needs at least one person to operate (no remote-controlled trips).\n",
    "\n",
    "3. The boat can travel between:\n",
    "\n",
    "            Left bank ↔ Island\n",
    "\n",
    "            Island ↔ Right bank\n",
    "\n",
    "4. All people, including the boat, start at the left bank.\n",
    "\n",
    "Goal: get everyone (husbands and wives) safely to the right bank, obeying all the rules.\n",
    "\n",
    "\n",
    "## Tasks:\n",
    "\n",
    "1. Put the problem in a form of a search tree: root, nodes, solution and rules for constructing the childrens.\n",
    "2. Solve it usinh a classic DFS\n",
    "3. Solve it using a classic Back-tracking.\n",
    "4. Solve it using the A* method.  "
   ]
  },
  {
   "cell_type": "code",
   "execution_count": null,
   "id": "d71377c3",
   "metadata": {},
   "outputs": [],
   "source": []
  }
 ],
 "metadata": {
  "language_info": {
   "name": "python"
  }
 },
 "nbformat": 4,
 "nbformat_minor": 5
}
